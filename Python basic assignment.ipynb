{
 "cells": [
  {
   "cell_type": "markdown",
   "id": "03be2d44",
   "metadata": {},
   "source": [
    "# python assignment-1 Variable and Data types"
   ]
  },
  {
   "cell_type": "markdown",
   "id": "ae805b40",
   "metadata": {},
   "source": [
    "Q1. Create two variables, a and b, and swap their values without using a temporary variable."
   ]
  },
  {
   "cell_type": "code",
   "execution_count": 4,
   "id": "5e28835d",
   "metadata": {},
   "outputs": [
    {
     "name": "stdout",
     "output_type": "stream",
     "text": [
      "b equals: 15\n",
      "a equals: 12\n"
     ]
    }
   ],
   "source": [
    "a=12\n",
    "b=15\n",
    "a,b=b,a\n",
    "print('b equals:',a)\n",
    "print('a equals:',b)"
   ]
  },
  {
   "cell_type": "markdown",
   "id": "fab96db2",
   "metadata": {},
   "source": [
    "Q2. Ask the user for an integer and convert it to a string. Then, print the data type of the converted variable."
   ]
  },
  {
   "cell_type": "code",
   "execution_count": 4,
   "id": "c8eb3907",
   "metadata": {},
   "outputs": [
    {
     "name": "stdout",
     "output_type": "stream",
     "text": [
      "Enter any integer:25\n",
      "25 <class 'str'>\n"
     ]
    }
   ],
   "source": [
    "m=input(\"Enter any integer:\")\n",
    "print(m,type(m))"
   ]
  },
  {
   "cell_type": "markdown",
   "id": "7725cf2e",
   "metadata": {},
   "source": [
    "Q3. Make a list of numbers and add a new number to the end of the list. Then, remove the first element and print the modified list."
   ]
  },
  {
   "cell_type": "code",
   "execution_count": 7,
   "id": "4c2e7eca",
   "metadata": {},
   "outputs": [
    {
     "name": "stdout",
     "output_type": "stream",
     "text": [
      "['nagpur', 'pune', 'Banglore', 'jalgoan', 'delhi', 'lonawala', 'vrundavan', 'darjleeng', 'kerla']\n",
      "['nagpur', 'pune', 'Banglore', 'jalgoan', 'delhi', 'lonawala', 'vrundavan', 'darjleeng', 'kerla', 'sikkim']\n",
      "modified list ['pune', 'Banglore', 'jalgoan', 'delhi', 'lonawala', 'vrundavan', 'darjleeng', 'kerla', 'sikkim']\n"
     ]
    }
   ],
   "source": [
    "my_list=[\"nagpur\",\"pune\", \"Banglore\",\"jalgoan\",\"delhi\",\"lonawala\",\"vrundavan\",\"darjleeng\",\"kerla\"]\n",
    "print(my_list)\n",
    "my_list.append(\"sikkim\")\n",
    "print(my_list)\n",
    "my_list.remove(\"nagpur\")\n",
    "print(\"modified list\",my_list)\n"
   ]
  },
  {
   "cell_type": "markdown",
   "id": "ae24e1cd",
   "metadata": {},
   "source": [
    "Q4. Assume a program that asks the user for their name and age. Then, use string\n",
    "formatting to display a message like \"Hello, [Name]! You are [Age] years old.\""
   ]
  },
  {
   "cell_type": "code",
   "execution_count": 8,
   "id": "148f13ee",
   "metadata": {},
   "outputs": [
    {
     "name": "stdout",
     "output_type": "stream",
     "text": [
      "Enter your name:megha\n",
      "Enter your age:23\n",
      "Hello megha You are 23 Years old\n"
     ]
    }
   ],
   "source": [
    "name=input(\"Enter your name:\")\n",
    "age=int(input(\"Enter your age:\"))\n",
    "print(\"Hello\",name ,\"You are\",age,\"Years old\")"
   ]
  },
  {
   "cell_type": "markdown",
   "id": "460e0445",
   "metadata": {},
   "source": [
    "Q5. Create variables for two numbers and perform addition, subtraction, multiplication,\n",
    "and division operations. Print the results."
   ]
  },
  {
   "cell_type": "code",
   "execution_count": 5,
   "id": "e7ef3c07",
   "metadata": {},
   "outputs": [
    {
     "name": "stdout",
     "output_type": "stream",
     "text": [
      "11\n",
      "-1\n",
      "30\n",
      "0.8333333333333334\n"
     ]
    }
   ],
   "source": [
    "a=5\n",
    "b=6\n",
    "addition=a+b\n",
    "print(addition)\n",
    "subtraction=a-b\n",
    "print(subtraction)\n",
    "multiplication=a*b\n",
    "print(multiplication)\n",
    "division=a/b\n",
    "print(division)"
   ]
  },
  {
   "cell_type": "markdown",
   "id": "37f208c0",
   "metadata": {},
   "source": [
    "Q6. Define a constant variable in Python and try to modify its value. Explain whether it's\n",
    "possible or not."
   ]
  },
  {
   "cell_type": "code",
   "execution_count": 23,
   "id": "8bd67c62",
   "metadata": {},
   "outputs": [
    {
     "name": "stdout",
     "output_type": "stream",
     "text": [
      "25\n",
      "29\n"
     ]
    }
   ],
   "source": [
    "m=25\n",
    "print(m)\n",
    "m=29\n",
    "print(m)\n",
    "## YES IT IS POSSIBLE TO MODIFY CONSTANT VARIABLE VALUE IN PYTHON "
   ]
  },
  {
   "cell_type": "markdown",
   "id": "6ebaa7d2",
   "metadata": {},
   "source": [
    "Q7. Write a program that checks the data type of a variable and prints a message based\n",
    "on whether it's an integer, float, string, or another type."
   ]
  },
  {
   "cell_type": "code",
   "execution_count": 33,
   "id": "1b63aef6",
   "metadata": {
    "scrolled": true
   },
   "outputs": [
    {
     "name": "stdout",
     "output_type": "stream",
     "text": [
      "Enter any character:4\n",
      "4 <class 'int'>\n",
      "Enter any character:m\n",
      "m <class 'str'>\n",
      "Enter any character:4\n",
      "(4+0j) <class 'complex'>\n",
      "Enter any character:4\n",
      "4.0 <class 'float'>\n"
     ]
    }
   ],
   "source": [
    "x=int(input(\"Enter any character:\"))\n",
    "print(x,type(x))\n",
    "x=input(\"Enter any character:\")\n",
    "print(x,type(x))\n",
    "x=complex(input(\"Enter any character:\"))\n",
    "print(x,type(x))\n",
    "x=float(input(\"Enter any character:\"))\n",
    "print(x,type(x))"
   ]
  },
  {
   "cell_type": "markdown",
   "id": "68e24c48",
   "metadata": {},
   "source": [
    "Q8. Generate a list of squares of numbers from 1 to 10 using list comprehension."
   ]
  },
  {
   "cell_type": "code",
   "execution_count": 11,
   "id": "28485daa",
   "metadata": {},
   "outputs": [
    {
     "name": "stdout",
     "output_type": "stream",
     "text": [
      "[1, 4, 9, 16, 25, 36, 49, 64, 81, 100]\n"
     ]
    }
   ],
   "source": [
    "list=[1,2,3,4,5,6,7,8,9,10]\n",
    "Squared_list=[number**2 for number in list]\n",
    "print(Squared_list)"
   ]
  },
  {
   "cell_type": "markdown",
   "id": "76d659e9",
   "metadata": {},
   "source": [
    "Q9. Create a program that attempts to convert a string to an integer. Handle any potential\n",
    "errors and print an error message."
   ]
  },
  {
   "cell_type": "code",
   "execution_count": 3,
   "id": "1d5e189e",
   "metadata": {},
   "outputs": [
    {
     "name": "stdout",
     "output_type": "stream",
     "text": [
      "Enter any character :m\n"
     ]
    },
    {
     "ename": "ValueError",
     "evalue": "invalid literal for int() with base 10: 'm'",
     "output_type": "error",
     "traceback": [
      "\u001b[1;31m---------------------------------------------------------------------------\u001b[0m",
      "\u001b[1;31mValueError\u001b[0m                                Traceback (most recent call last)",
      "Cell \u001b[1;32mIn[3], line 2\u001b[0m\n\u001b[0;32m      1\u001b[0m M\u001b[38;5;241m=\u001b[39m\u001b[38;5;28minput\u001b[39m(\u001b[38;5;124m\"\u001b[39m\u001b[38;5;124mEnter any character :\u001b[39m\u001b[38;5;124m\"\u001b[39m)\n\u001b[1;32m----> 2\u001b[0m R\u001b[38;5;241m=\u001b[39m\u001b[38;5;28mint\u001b[39m(M)\n\u001b[0;32m      3\u001b[0m \u001b[38;5;28mprint\u001b[39m(R)\n",
      "\u001b[1;31mValueError\u001b[0m: invalid literal for int() with base 10: 'm'"
     ]
    }
   ],
   "source": [
    "M=input(\"Enter any character :\")\n",
    "R=int(M)\n",
    "print(R)"
   ]
  },
  {
   "cell_type": "markdown",
   "id": "2ffeb8b2",
   "metadata": {},
   "source": [
    "Q10. Write a program with variables that follow both the snake_case and CamelCase\n",
    "naming conventions. Print a message explaining the conventions."
   ]
  },
  {
   "cell_type": "code",
   "execution_count": null,
   "id": "da1a556f",
   "metadata": {},
   "outputs": [],
   "source": [
    "snake_case=my_name_is_megha ##ALL WORDS IN LOWER CASE AND EACH WORD SEPERATED WITH UNDERSCORE.\n",
    "CamelCase=ILoveCat ##ALL WORD START WITH CAPITAL LETTER AND NOT SEPERATED WITH UNDERSCORE."
   ]
  },
  {
   "cell_type": "markdown",
   "id": "aa06966c",
   "metadata": {},
   "source": [
    "# Python Assignment-2 Input Methods"
   ]
  },
  {
   "cell_type": "markdown",
   "id": "1643542c",
   "metadata": {},
   "source": [
    "Q1. Write a program that prints the user to enter their name, age, and city. Then, print out\n",
    "a message that includes this information."
   ]
  },
  {
   "cell_type": "code",
   "execution_count": 44,
   "id": "805212c5",
   "metadata": {},
   "outputs": [
    {
     "name": "stdout",
     "output_type": "stream",
     "text": [
      "Enter your name: Megha\n",
      "Enter your age: 23\n",
      "Enter your city:Nagpur\n",
      "Hello  Megha You are 23 Years old & your city is Nagpur\n"
     ]
    }
   ],
   "source": [
    "name=input(\"Enter your name:\")\n",
    "age=int(input(\"Enter your age:\"))\n",
    "city=input(\"Enter your city:\")\n",
    "print(\"Hello\",name ,\"You are\",age,\"Years old &\",\"your city is\",city)"
   ]
  },
  {
   "cell_type": "markdown",
   "id": "32adeafa",
   "metadata": {},
   "source": [
    "Q2. Create a simple calculator program that takes two numbers and an operation (+, -, *,\n",
    "/) as input from the user and displays the result"
   ]
  },
  {
   "cell_type": "code",
   "execution_count": 4,
   "id": "3c34bc00",
   "metadata": {},
   "outputs": [
    {
     "name": "stdout",
     "output_type": "stream",
     "text": [
      "Enter first number :25\n",
      "Enter second number :29\n",
      "Enter any operator:(+,-,*,/):+\n",
      "54\n"
     ]
    }
   ],
   "source": [
    "num1 =int(input(\"Enter first number :\"))\n",
    "num2 =int(input(\"Enter second number :\"))\n",
    "operator=input(\"Enter any operator:(+,-,*,/):\")\n",
    "if operator==\"+\":\n",
    "    print(num1+num2)\n",
    "elif operator==\"-\":\n",
    "    print(num1-num2)\n",
    "elif operator==\"*\":\n",
    "    print(num1*num2)\n",
    "elif operator==\"/\":\n",
    "    print(num1/num2)\n",
    "    \n",
    "    "
   ]
  },
  {
   "cell_type": "markdown",
   "id": "af0c61c1",
   "metadata": {},
   "source": [
    "Q3. Define a program that asks the user to enter a number and determines whether it's\n",
    "even or odd."
   ]
  },
  {
   "cell_type": "code",
   "execution_count": 53,
   "id": "b41026b7",
   "metadata": {},
   "outputs": [
    {
     "name": "stdout",
     "output_type": "stream",
     "text": [
      "Enter any number:3\n",
      "it is odd number \n"
     ]
    }
   ],
   "source": [
    "m= int(input(\"Enter any number:\"))\n",
    "if m%2==0:\n",
    "    print(\"it is a even number \")\n",
    "else:\n",
    "    print(\"it is odd number \")\n"
   ]
  },
  {
   "cell_type": "markdown",
   "id": "4e26f4c4",
   "metadata": {},
   "source": [
    "Q4. Make a program that allows the user to convert between Celsius and Fahrenheit\n",
    "temperatures. Ask the user for the temperature value and the scale they are using."
   ]
  },
  {
   "cell_type": "code",
   "execution_count": 56,
   "id": "bd05989f",
   "metadata": {},
   "outputs": [
    {
     "name": "stdout",
     "output_type": "stream",
     "text": [
      "Enter any temp:6\n",
      "temperature in fahrenit  42.8\n"
     ]
    }
   ],
   "source": [
    "celcius=eval(input(\"Enter any temp:\"))\n",
    "fahrenit=(celcius*(9/5)+32)\n",
    "print(\"temperature in fahrenit \",fahrenit)"
   ]
  },
  {
   "cell_type": "markdown",
   "id": "716b5356",
   "metadata": {},
   "source": [
    "Q5. Write a program that prompts the user to create a password. Check if the password\n",
    "meets certain criteria (e.g., minimum length, containing both letters and numbers)"
   ]
  },
  {
   "cell_type": "code",
   "execution_count": 23,
   "id": "879e86d4",
   "metadata": {},
   "outputs": [
    {
     "name": "stdout",
     "output_type": "stream",
     "text": [
      "Enter your password:megha@25\n",
      "Password is created\n"
     ]
    }
   ],
   "source": [
    "password=input(\"Enter your password:\")\n",
    "if len(password)==8 and any(char.isdigit() for char in password) and any(char.isalpha() for char in password):\n",
    "    print(\"Password is created\")\n",
    "else:\n",
    "    print(\" Invalid Password !! \")   "
   ]
  },
  {
   "cell_type": "markdown",
   "id": "2b6bf6ff",
   "metadata": {},
   "source": [
    "Q6. Implement a number guessing game where the computer generates a random\n",
    "number, and the user has to guess it. Provide feedback on whether the guess is too\n",
    "high or too low.\n"
   ]
  },
  {
   "cell_type": "code",
   "execution_count": 1,
   "id": "618255da",
   "metadata": {},
   "outputs": [
    {
     "name": "stdout",
     "output_type": "stream",
     "text": [
      "7\n",
      "Enter your guesss:7\n",
      "Guess is correct\n"
     ]
    }
   ],
   "source": [
    "import random\n",
    "n=random.randint(1,10)\n",
    "print(n)\n",
    "num=int(input(\"Enter your guesss:\"))\n",
    "if num<n:\n",
    "    print(\"Guess is low\")\n",
    "elif num==n:\n",
    "    print(\"Guess is correct\")\n",
    "else:\n",
    "    print(\" your Guess is to high\")\n",
    "                "
   ]
  },
  {
   "cell_type": "markdown",
   "id": "c2248532",
   "metadata": {},
   "source": [
    "Q7. Assume a program that asks the user for their height and weight, then calculates and\n",
    "displays their Body Mass Index."
   ]
  },
  {
   "cell_type": "code",
   "execution_count": 2,
   "id": "335383c3",
   "metadata": {},
   "outputs": [
    {
     "name": "stdout",
     "output_type": "stream",
     "text": [
      "Enter your height in meter :1.234\n",
      "Enter your weight in kilogram :56\n",
      "BODY MASS MATRIX 36.77542560988103\n"
     ]
    }
   ],
   "source": [
    "height=eval(input(\"Enter your height in meter :\"))\n",
    "weight=eval(input(\"Enter your weight in kilogram :\"))\n",
    "BMI=weight/(height*height)\n",
    "print(\"BODY MASS MATRIX\",BMI)"
   ]
  },
  {
   "cell_type": "markdown",
   "id": "66d0cd22",
   "metadata": {},
   "source": [
    "Q8. Ask the user to enter a positive integer and calculate its factorial (e.g., 5! = 5 x 4 x 3 x\n",
    "2 x 1 = 120)."
   ]
  },
  {
   "cell_type": "code",
   "execution_count": 5,
   "id": "5603da8d",
   "metadata": {},
   "outputs": [
    {
     "name": "stdout",
     "output_type": "stream",
     "text": [
      "Enter any number:5\n",
      "factorial of given number is: 1\n",
      "factorial of given number is: 2\n",
      "factorial of given number is: 6\n",
      "factorial of given number is: 24\n",
      "factorial of given number is: 120\n"
     ]
    }
   ],
   "source": [
    "f= eval(input(\"Enter any number:\"))\n",
    "factorial=1\n",
    "if f>=1:\n",
    "    for i in range(1,f+1):\n",
    "        factorial =factorial*i\n",
    "        print(\"factorial of given number is:\",factorial)\n",
    "        "
   ]
  },
  {
   "cell_type": "markdown",
   "id": "94491df6",
   "metadata": {},
   "source": [
    "Q9. Prompt the user to input a string and then display the reverse of that string."
   ]
  },
  {
   "cell_type": "code",
   "execution_count": 9,
   "id": "f177411c",
   "metadata": {},
   "outputs": [
    {
     "name": "stdout",
     "output_type": "stream",
     "text": [
      "megha\n"
     ]
    },
    {
     "data": {
      "text/plain": [
       "'ahgem'"
      ]
     },
     "execution_count": 9,
     "metadata": {},
     "output_type": "execute_result"
    }
   ],
   "source": [
    "str=\"megha\"\n",
    "print(str)\n",
    "str[::-1]"
   ]
  },
  {
   "cell_type": "markdown",
   "id": "39def420",
   "metadata": {},
   "source": [
    "Q10. Find a program that asks the user for a number and generates the first \"n\" numbers\n",
    "in the Fibonacci sequence"
   ]
  },
  {
   "cell_type": "code",
   "execution_count": 7,
   "id": "af4c9148",
   "metadata": {},
   "outputs": [
    {
     "name": "stdout",
     "output_type": "stream",
     "text": [
      "Enter number:10\n",
      "0 1 1 2 3 5 8 13 21 34 "
     ]
    }
   ],
   "source": [
    "num=int(input(\"Enter number:\"))\n",
    "a=0\n",
    "b=1\n",
    "c=0\n",
    "for i in range(num):\n",
    "    print(c,end=\" \")\n",
    "    a=b\n",
    "    b=c\n",
    "    c=a+b\n",
    "\n"
   ]
  },
  {
   "cell_type": "markdown",
   "id": "7307c8be",
   "metadata": {},
   "source": [
    "# Python Assignment-3 Output Methods\n"
   ]
  },
  {
   "cell_type": "markdown",
   "id": "5d10cbf2",
   "metadata": {},
   "source": [
    "Q1. Python program that prints \"Hello, World!\" to the console."
   ]
  },
  {
   "cell_type": "code",
   "execution_count": 10,
   "id": "ff33f955",
   "metadata": {},
   "outputs": [
    {
     "name": "stdout",
     "output_type": "stream",
     "text": [
      "HELLO WORLD\n"
     ]
    }
   ],
   "source": [
    "print(\"HELLO WORLD\")"
   ]
  },
  {
   "cell_type": "markdown",
   "id": "3b4a653d",
   "metadata": {},
   "source": [
    "Q2. Create a program that takes a number as input and prints its multiplication table from\n",
    "1 to 10."
   ]
  },
  {
   "cell_type": "code",
   "execution_count": 12,
   "id": "6dc024ea",
   "metadata": {},
   "outputs": [
    {
     "name": "stdout",
     "output_type": "stream",
     "text": [
      "Enter any number6\n",
      "multiplication table of  6\n",
      "6 x 1 = 6\n",
      "6 x 2 = 12\n",
      "6 x 3 = 18\n",
      "6 x 4 = 24\n",
      "6 x 5 = 30\n",
      "6 x 6 = 36\n",
      "6 x 7 = 42\n",
      "6 x 8 = 48\n",
      "6 x 9 = 54\n",
      "6 x 10 = 60\n"
     ]
    }
   ],
   "source": [
    "num=int(input(\"Enter any number\"))\n",
    "print(\"multiplication table of \",num)\n",
    "for i in range(1,11):\n",
    "    print(num,\"x\",i,\"=\",num*i)"
   ]
  },
  {
   "cell_type": "markdown",
   "id": "c058e38d",
   "metadata": {},
   "source": [
    "Q3. Write a program that counts down from a specified number to 1 and then prints\n",
    "\"Blast-off!\""
   ]
  },
  {
   "cell_type": "code",
   "execution_count": 14,
   "id": "7aa72cef",
   "metadata": {},
   "outputs": [
    {
     "name": "stdout",
     "output_type": "stream",
     "text": [
      "7\n",
      "6\n",
      "5\n",
      "4\n",
      "3\n",
      "2\n",
      "1\n",
      "BLAST OFF\n"
     ]
    }
   ],
   "source": [
    "for i in range(7,0,-1):\n",
    "    print(i)\n",
    "print(\"BLAST OFF\")"
   ]
  },
  {
   "cell_type": "markdown",
   "id": "54bb055d",
   "metadata": {},
   "source": [
    "Q4. Generate a program that prints a pyramid of stars, where the user provides the\n",
    "number of rows for the pyramid."
   ]
  },
  {
   "cell_type": "code",
   "execution_count": 15,
   "id": "07819d38",
   "metadata": {},
   "outputs": [
    {
     "name": "stdout",
     "output_type": "stream",
     "text": [
      "Enter the pyramid rows you want=3\n",
      "pyramid pattern\n",
      "  * \n",
      " * * \n",
      "* * * \n"
     ]
    }
   ],
   "source": [
    "rows=int(input(\"Enter the pyramid rows you want=\"))\n",
    "print(\"pyramid pattern\")\n",
    "for i in range(0,rows):\n",
    "    for j in range (0,rows -i-1):\n",
    "        print(end=\" \")\n",
    "    for k in range(0, i+1):\n",
    "        print(\"*\", end=\" \")\n",
    "    print()"
   ]
  },
  {
   "cell_type": "markdown",
   "id": "c5c1ca78",
   "metadata": {},
   "source": [
    "Q5. Ask the user for a number \"n\" and print a pattern of numbers from 1 to n in the\n",
    "following way:\n",
    "1\n",
    "12\n",
    "123\n",
    "1234"
   ]
  },
  {
   "cell_type": "code",
   "execution_count": 17,
   "id": "919190c1",
   "metadata": {},
   "outputs": [
    {
     "name": "stdout",
     "output_type": "stream",
     "text": [
      "Enter the pyramid rows you want=4\n",
      "print pattern\n",
      "1 \n",
      "1 2 \n",
      "1 2 3 \n",
      "1 2 3 4 \n"
     ]
    }
   ],
   "source": [
    "rows=int(input(\"Enter the pyramid rows you want=\"))\n",
    "print(\"print pattern\")\n",
    "for i in range(0,rows):\n",
    "    for j in range( i+1):\n",
    "        print(j+1, end=\" \")\n",
    "    print()"
   ]
  },
  {
   "cell_type": "markdown",
   "id": "ba68d945",
   "metadata": {},
   "source": [
    "Q6. Make a program that calculates and prints the sum of all numbers from 1 to a\n",
    "user-specified number.\n"
   ]
  },
  {
   "cell_type": "code",
   "execution_count": 1,
   "id": "c78ad090",
   "metadata": {},
   "outputs": [
    {
     "name": "stdout",
     "output_type": "stream",
     "text": [
      "Enter any number:6\n",
      "1\n",
      "3\n",
      "6\n",
      "10\n",
      "15\n",
      "21\n"
     ]
    }
   ],
   "source": [
    "input=int(input(\"Enter any number:\"))\n",
    "sum=0\n",
    "for value in range(1, input+1):\n",
    "    sum = sum+value\n",
    "    print(sum)\n",
    "    "
   ]
  },
  {
   "cell_type": "markdown",
   "id": "63f512c6",
   "metadata": {},
   "source": [
    "Q7. Ask the user to enter a character (e.g., '*') and a number. Print a square of that\n",
    "character with the given number of rows and columns"
   ]
  },
  {
   "cell_type": "code",
   "execution_count": 1,
   "id": "fee0072f",
   "metadata": {},
   "outputs": [
    {
     "name": "stdout",
     "output_type": "stream",
     "text": [
      "Enter any name:megha\n",
      "Enter numbers of rows and columns:4\n",
      "megha megha megha megha \n",
      "megha megha megha megha \n",
      "megha megha megha megha \n",
      "megha megha megha megha \n"
     ]
    }
   ],
   "source": [
    "name=input(\"Enter any name:\")\n",
    "number=int(input(\"Enter numbers of rows and columns:\"))\n",
    "for i in range(number):\n",
    "    for j in range(number):\n",
    "        print(name,end=\" \")\n",
    "    print()"
   ]
  },
  {
   "cell_type": "markdown",
   "id": "210fae9e",
   "metadata": {},
   "source": [
    "Q8. Write a program that asks the user to enter a positive integer and then prints the\n",
    "factorial of that number"
   ]
  },
  {
   "cell_type": "code",
   "execution_count": 2,
   "id": "5e574aef",
   "metadata": {},
   "outputs": [
    {
     "name": "stdout",
     "output_type": "stream",
     "text": [
      "Enter any number:4\n",
      "factorial of given number is: 1\n",
      "factorial of given number is: 2\n",
      "factorial of given number is: 6\n",
      "factorial of given number is: 24\n"
     ]
    }
   ],
   "source": [
    "input= eval(input(\"Enter any number:\"))\n",
    "factorial=1\n",
    "if input>=1:\n",
    "    for i in range(1,input+1):\n",
    "        factorial =factorial*i\n",
    "        print(\"factorial of given number is:\",factorial)\n",
    "        "
   ]
  },
  {
   "cell_type": "markdown",
   "id": "f510732a",
   "metadata": {},
   "source": [
    "Q9. BMI calculator program (as in a previous question) and print the user's BMI category\n",
    "(e.g., underweight, normal, overweight, obese)."
   ]
  },
  {
   "cell_type": "code",
   "execution_count": 3,
   "id": "ad3c5269",
   "metadata": {},
   "outputs": [
    {
     "name": "stdout",
     "output_type": "stream",
     "text": [
      "Enter your height in meter :45\n",
      "Enter your weight in kilogram :56\n",
      "0.027654320987654323\n",
      "You are underweight:\n"
     ]
    }
   ],
   "source": [
    "height=eval(input(\"Enter your height in meter :\"))\n",
    "weight=eval(input(\"Enter your weight in kilogram :\"))\n",
    "BMI=weight/(height*height)\n",
    "print(BMI)\n",
    "if BMI<19.5:\n",
    "    print(\"You are underweight:\")\n",
    "elif BMI<25:\n",
    "    print(\"You are normal:\") \n",
    "elif BMI<50:\n",
    "    print(\"You are overweight:\") \n",
    "elif BMI<40:\n",
    "    print(\"You are obese:\")\n",
    "else:\n",
    "    print(\"You are perfectly fit\") \n",
    "    "
   ]
  },
  {
   "cell_type": "markdown",
   "id": "0b632b9e",
   "metadata": {},
   "source": [
    "Q10. Ask the user to input the principal amount, rate of interest, and time in years.\n",
    "Calculate and print the simple interest."
   ]
  },
  {
   "cell_type": "code",
   "execution_count": 2,
   "id": "c2932507",
   "metadata": {},
   "outputs": [
    {
     "name": "stdout",
     "output_type": "stream",
     "text": [
      "Enter the principal:400\n",
      "Enter the rate:5\n",
      "Enter the no of years:2\n",
      "simple interest= 400000\n"
     ]
    }
   ],
   "source": [
    "p=int(input(\"Enter the principal:\"))\n",
    "r=int(input(\"Enter the rate:\"))\n",
    "y=int(input(\"Enter the no of years:\"))\n",
    "si=(p*r*y)*100\n",
    "print(\"simple interest=\",si)"
   ]
  },
  {
   "cell_type": "markdown",
   "id": "320e8093",
   "metadata": {},
   "source": [
    "# Python Assignment-4 String"
   ]
  },
  {
   "cell_type": "markdown",
   "id": "787db96d",
   "metadata": {},
   "source": [
    "Q1. Write a Python program that takes a string as input and returns the reverse of that\n",
    "string"
   ]
  },
  {
   "cell_type": "code",
   "execution_count": 1,
   "id": "1c301a60",
   "metadata": {},
   "outputs": [
    {
     "name": "stdout",
     "output_type": "stream",
     "text": [
      "Enter any string:i love cat\n",
      "tac evol i\n"
     ]
    }
   ],
   "source": [
    "my_string=input(\"Enter any string:\")\n",
    "print(my_string[::-1])\n"
   ]
  },
  {
   "cell_type": "markdown",
   "id": "d2a5b397",
   "metadata": {},
   "source": [
    "Q2. Make a function that checks if a given string is a palindrome (reads the same\n",
    "forwards and backwards)."
   ]
  },
  {
   "cell_type": "code",
   "execution_count": 5,
   "id": "24cbad66",
   "metadata": {},
   "outputs": [
    {
     "name": "stdout",
     "output_type": "stream",
     "text": [
      "Enter any string:level\n",
      "IT IS PALLINDROME\n"
     ]
    }
   ],
   "source": [
    "p=input(\"Enter any string:\")\n",
    "if p==p[::-1]:\n",
    "    print(\"IT IS PALLINDROME\")\n",
    "else:\n",
    "    print(\"IT IS NOT PALLINDROME\")\n",
    "    "
   ]
  },
  {
   "cell_type": "markdown",
   "id": "e32a5e0b",
   "metadata": {},
   "source": [
    "Q3. Write a function to count the number of vowels (a, e, i, o, u) in a given string.\n"
   ]
  },
  {
   "cell_type": "code",
   "execution_count": 6,
   "id": "7269b643",
   "metadata": {},
   "outputs": [
    {
     "name": "stdout",
     "output_type": "stream",
     "text": [
      "Enter any string:level\n",
      "Total no of vowels in the string:\n",
      "2\n"
     ]
    }
   ],
   "source": [
    "m=input(\"Enter any string:\")\n",
    "vowels=0\n",
    "for i in m:\n",
    "    if(i==\"a\" or i==\"e\" or i==\"i\" or i==\"o\" or i==\"u\"):\n",
    "        vowels=vowels+1\n",
    "print(\"Total no of vowels in the string:\")\n",
    "print(vowels)"
   ]
  },
  {
   "cell_type": "markdown",
   "id": "55a68112",
   "metadata": {},
   "source": [
    "Q4. Given two strings, write a program to concatenate them without using the + operator"
   ]
  },
  {
   "cell_type": "code",
   "execution_count": 2,
   "id": "946ef905",
   "metadata": {},
   "outputs": [
    {
     "name": "stdout",
     "output_type": "stream",
     "text": [
      "Enter fisrt string:nagpur\n",
      "Enter second string:pune\n",
      "THE CONCAT STRING IS: nagpurpune\n"
     ]
    }
   ],
   "source": [
    "str1=input(\"Enter fisrt string:\")\n",
    "str2=input(\"Enter second string:\")\n",
    "concat=\"\".join([str1,str2])\n",
    "print(\"THE CONCAT STRING IS:\",concat)\n"
   ]
  },
  {
   "cell_type": "markdown",
   "id": "633077d1",
   "metadata": {},
   "source": [
    "Q5. Given a string, write a program to extract a substring between a specified start and\n",
    "end index"
   ]
  },
  {
   "cell_type": "code",
   "execution_count": 16,
   "id": "4f169c08",
   "metadata": {},
   "outputs": [
    {
     "name": "stdout",
     "output_type": "stream",
     "text": [
      "megha\n",
      "eh\n"
     ]
    }
   ],
   "source": [
    "my_string=\"megha\"\n",
    "len(my_string)\n",
    "print(my_string)\n",
    "print(my_string[1::2])"
   ]
  },
  {
   "cell_type": "markdown",
   "id": "3b560752",
   "metadata": {},
   "source": [
    "Q6. Make a function that checks if two given strings are anagrams (contain the same\n",
    "characters in a different order)."
   ]
  },
  {
   "cell_type": "code",
   "execution_count": 20,
   "id": "f3264420",
   "metadata": {},
   "outputs": [
    {
     "name": "stdout",
     "output_type": "stream",
     "text": [
      "Enter first string:cat\n",
      "Enter second string:act\n",
      "both string are anagrams \n"
     ]
    }
   ],
   "source": [
    "m= input(\"Enter first string:\")\n",
    "n= input(\"Enter second string:\")\n",
    "if (sorted(m)==sorted(n)):\n",
    "    print(\"both string are anagrams \")\n",
    "else:\n",
    "    print(\"both string are not anagrams  \")\n"
   ]
  },
  {
   "cell_type": "markdown",
   "id": "85fd20c0",
   "metadata": {},
   "source": [
    "Q7. Find a function that calculates the frequency of each character in a string and returns\n",
    "the results as a dictionary.\n"
   ]
  },
  {
   "cell_type": "code",
   "execution_count": 4,
   "id": "1a095b2c",
   "metadata": {},
   "outputs": [
    {
     "name": "stdout",
     "output_type": "stream",
     "text": [
      "c : 2 , a : 1 , t : 2 , _ : 2 , i : 1 , s : 1 , _ : 2 , c : 2 , u : 1 , t : 2 , e : 1 , "
     ]
    }
   ],
   "source": [
    "string= \"cat_is_cute\"\n",
    "for i in string:\n",
    "    frequency=string.count(i)\n",
    "    print(str(i),\":\", str(frequency),end=\" , \")\n"
   ]
  },
  {
   "cell_type": "markdown",
   "id": "d0295146",
   "metadata": {},
   "source": [
    "Q8. Write a program to remove duplicate characters from a string and return the string\n",
    "without duplicates.\n"
   ]
  },
  {
   "cell_type": "code",
   "execution_count": 10,
   "id": "5320469f",
   "metadata": {},
   "outputs": [
    {
     "name": "stdout",
     "output_type": "stream",
     "text": [
      " payl\n"
     ]
    }
   ],
   "source": [
    "string=\"payal\"\n",
    "new_str=\" \"\n",
    "for i in string:\n",
    "    if i not in new_str:\n",
    "        new_str=new_str+i\n",
    "print(new_str)"
   ]
  },
  {
   "cell_type": "markdown",
   "id": "316ca8a8",
   "metadata": {},
   "source": [
    "Q9. Assume a function to convert a given string into a title case, where the first letter of\n",
    "each word is capitalized."
   ]
  },
  {
   "cell_type": "code",
   "execution_count": 1,
   "id": "468ed320",
   "metadata": {},
   "outputs": [
    {
     "data": {
      "text/plain": [
       "'I Love Cat'"
      ]
     },
     "execution_count": 1,
     "metadata": {},
     "output_type": "execute_result"
    }
   ],
   "source": [
    "my_string=\"i love cat\"\n",
    "my_string.title()"
   ]
  },
  {
   "cell_type": "markdown",
   "id": "6d65965b",
   "metadata": {},
   "source": [
    "# Python assignment-5 list"
   ]
  },
  {
   "cell_type": "markdown",
   "id": "28b1f723",
   "metadata": {},
   "source": [
    "Q1. Create a list of your favorite fruits. Add a new fruit to the list, remove one fruit, and\n",
    "print the modified list."
   ]
  },
  {
   "cell_type": "code",
   "execution_count": 24,
   "id": "5f936e24",
   "metadata": {},
   "outputs": [
    {
     "name": "stdout",
     "output_type": "stream",
     "text": [
      "['mango', 'custardapple', 'chikuu', 'guava', 'banana']\n",
      "['mango', 'custardapple', 'chikuu', 'guava', 'banana', 'kiwi']\n",
      "modified_list: ['mango', 'custardapple', 'chikuu', 'banana', 'kiwi']\n"
     ]
    }
   ],
   "source": [
    "my_list=[\"mango\",\"custardapple\" ,\"chikuu\" ,\"guava\" ,\"banana\"]\n",
    "print(my_list)\n",
    "my_list.append(\"kiwi\")\n",
    "print(my_list)\n",
    "my_list.remove(\"guava\")\n",
    "print(\"modified_list:\",my_list)\n"
   ]
  },
  {
   "cell_type": "markdown",
   "id": "52659162",
   "metadata": {},
   "source": [
    "Q2. Write a program that calculates the sum of all the numbers in a given list of integers."
   ]
  },
  {
   "cell_type": "code",
   "execution_count": 15,
   "id": "9dcbf16f",
   "metadata": {},
   "outputs": [
    {
     "name": "stdout",
     "output_type": "stream",
     "text": [
      " sum of elements in list: 28\n"
     ]
    }
   ],
   "source": [
    "list=[1,2,3,4,5,6,7]\n",
    "sum=0\n",
    "for i in list:\n",
    "    sum=sum+i\n",
    "print(\" sum of elements in list:\",sum)"
   ]
  },
  {
   "cell_type": "markdown",
   "id": "2967c2aa",
   "metadata": {},
   "source": [
    "Q3. Generate a list of the squares of the numbers from 1 to 10 using list comprehension."
   ]
  },
  {
   "cell_type": "code",
   "execution_count": 11,
   "id": "65d416a7",
   "metadata": {},
   "outputs": [
    {
     "name": "stdout",
     "output_type": "stream",
     "text": [
      "[1, 4, 9, 16, 25, 36, 49, 64, 81, 100]\n"
     ]
    }
   ],
   "source": [
    "list=[1,2,3,4,5,6,7,8,9,10]\n",
    "squared_list=[number**2 for number in list]\n",
    "print(squared_list)"
   ]
  },
  {
   "cell_type": "markdown",
   "id": "a2363d4e",
   "metadata": {},
   "source": [
    "Q4. Make a list of numbers and use list comprehension to create a new list with only the\n",
    "even numbers"
   ]
  },
  {
   "cell_type": "code",
   "execution_count": 13,
   "id": "4a14f284",
   "metadata": {},
   "outputs": [
    {
     "name": "stdout",
     "output_type": "stream",
     "text": [
      "even numbers: [2, 4, 6, 8]\n"
     ]
    }
   ],
   "source": [
    "list=[1,2,3,4,5,6,7,8]\n",
    "evenlist=[]\n",
    "for i in list:\n",
    "    if i%2==0:\n",
    "        evenlist.append(i)\n",
    "print(\"even numbers:\", evenlist)"
   ]
  },
  {
   "cell_type": "markdown",
   "id": "e32c40de",
   "metadata": {},
   "source": [
    "Q5. Write a program that reverses a given list without using the reverse() method or\n",
    "slicing."
   ]
  },
  {
   "cell_type": "code",
   "execution_count": 18,
   "id": "35db93d5",
   "metadata": {},
   "outputs": [
    {
     "name": "stdout",
     "output_type": "stream",
     "text": [
      "['nagpur', 'bhusawal', 'delhi', 'jalgoan']\n",
      " Reversed_list: ['jalgoan', 'delhi', 'bhusawal', 'nagpur']\n"
     ]
    }
   ],
   "source": [
    "list=[ \"nagpur\" ,\"bhusawal\", \"delhi\", \"jalgoan\"]  # BY USING INSERT FUNCTION WE CAN REVERSE THE LIST\n",
    "print(list)\n",
    "Reversed_list=[]\n",
    "for i in list:\n",
    "    Reversed_list.insert(0,i)\n",
    "print(\" Reversed_list:\", Reversed_list)\n"
   ]
  },
  {
   "cell_type": "markdown",
   "id": "9aba477a",
   "metadata": {},
   "source": [
    "Q6.Make a list of words (strings) and sort them in alphabetical order. Print both the\n",
    "original and sorted lists.\n"
   ]
  },
  {
   "cell_type": "code",
   "execution_count": 21,
   "id": "e00e0f33",
   "metadata": {},
   "outputs": [
    {
     "name": "stdout",
     "output_type": "stream",
     "text": [
      "original_list ['nagpur', 'bhusawal', 'delhi', 'jalgoan']\n",
      "sorted_list ['bhusawal', 'delhi', 'jalgoan', 'nagpur']\n"
     ]
    }
   ],
   "source": [
    "list=[ \"nagpur\" ,\"bhusawal\", \"delhi\", \"jalgoan\"]\n",
    "print(\"original_list\",list)\n",
    "sorted_list=sorted(list)\n",
    "print(\"sorted_list\",sorted_list)"
   ]
  },
  {
   "cell_type": "markdown",
   "id": "9363ec6d",
   "metadata": {},
   "source": [
    "Q7. Combine two lists into a single list without using the + operator. Print the merged list."
   ]
  },
  {
   "cell_type": "code",
   "execution_count": 26,
   "id": "7f5fcad4",
   "metadata": {},
   "outputs": [
    {
     "name": "stdout",
     "output_type": "stream",
     "text": [
      "Merged_list: [1, 2, 3, 4, 5, 2, 3, 4, 5, 6]\n"
     ]
    }
   ],
   "source": [
    "list1=[1,2,3,4,5]     ## BY USING EXTEND FUNCTION WE CAN MERGE OR COMBINE LIST\n",
    "list2=[2,3,4,5,6]\n",
    "list1.extend(list2)\n",
    "print(\"Merged_list:\",list1)"
   ]
  },
  {
   "cell_type": "markdown",
   "id": "ddc32d8a",
   "metadata": {},
   "source": [
    "Q8. Given a list and a specific element, write a program to remove all occurrences of that\n",
    "element from the list."
   ]
  },
  {
   "cell_type": "code",
   "execution_count": 1,
   "id": "924c518b",
   "metadata": {},
   "outputs": [
    {
     "name": "stdout",
     "output_type": "stream",
     "text": [
      "Enter total no.of.elements you want to enter in list:3\n",
      "Enter elemnts:megha\n",
      "Enter elemnts:megha\n",
      "Enter elemnts:25\n",
      "My list is: ['megha', 'megha', '25']\n",
      "non_duplicate_value is: {'25', 'megha'}\n"
     ]
    }
   ],
   "source": [
    "n=int(input(\"Enter total no.of.elements you want to enter in list:\"))\n",
    "m=[]\n",
    "for i in range(n):\n",
    "    ele=input(\"Enter elemnts:\")\n",
    "    m.append(ele)\n",
    "print(\"My list is:\",m)\n",
    "non_duplicate_value=set(m)\n",
    "print(\"non_duplicate_value is:\",non_duplicate_value)\n",
    "    \n"
   ]
  },
  {
   "cell_type": "markdown",
   "id": "77e40a74",
   "metadata": {},
   "source": [
    "Q9. Create two lists of numbers and find the common elements between them. Print the\n",
    "result."
   ]
  },
  {
   "cell_type": "code",
   "execution_count": 27,
   "id": "4129f9e5",
   "metadata": {},
   "outputs": [
    {
     "name": "stdout",
     "output_type": "stream",
     "text": [
      "[2, 3, 4, 5]\n"
     ]
    }
   ],
   "source": [
    "list1=[1,2,3,4,5]     \n",
    "list2=[2,3,4,5,6]\n",
    "RESULT=[item for item in list1 if item in list2]\n",
    "print(RESULT)"
   ]
  },
  {
   "cell_type": "markdown",
   "id": "c70eead7",
   "metadata": {},
   "source": [
    "Q10. Take a list of words and print the first three and last three words without changing\n",
    "the original list.\n"
   ]
  },
  {
   "cell_type": "code",
   "execution_count": 30,
   "id": "63eebb61",
   "metadata": {},
   "outputs": [
    {
     "name": "stdout",
     "output_type": "stream",
     "text": [
      "original_list ['F', 'A', 'N', 'D', 'J', 'M', 'A', 'N']\n",
      "First three words are ['F', 'A', 'N'] Last three words are ['M', 'A', 'N']\n"
     ]
    }
   ],
   "source": [
    "list=[\"F\",\"A\",\"N\",\"D\",\"J\",\"M\",\"A\",\"N\"]\n",
    "print(\"original_list\",list)\n",
    "print(\"First three words are\",list[:3],\"Last three words are\",list[-3:])"
   ]
  },
  {
   "cell_type": "markdown",
   "id": "fba7ecb3",
   "metadata": {},
   "source": [
    "# Python assignment-6 Tuple"
   ]
  },
  {
   "cell_type": "markdown",
   "id": "2a5d42bc",
   "metadata": {},
   "source": [
    "Q1. Create a tuple containing the names of your favorite colors."
   ]
  },
  {
   "cell_type": "code",
   "execution_count": 35,
   "id": "0b994bf1",
   "metadata": {},
   "outputs": [
    {
     "data": {
      "text/plain": [
       "('black', 'white', 'peach', 'pink', 'red')"
      ]
     },
     "execution_count": 35,
     "metadata": {},
     "output_type": "execute_result"
    }
   ],
   "source": [
    "tuple=( \"black\" ,\"white\", \"peach\", \"pink\", \"red\")\n",
    "tuple"
   ]
  },
  {
   "cell_type": "markdown",
   "id": "93484991",
   "metadata": {},
   "source": [
    "Q2. Define a tuple with the days of the week. Write a program that asks the user for a\n",
    "number (1 to 7) and prints the corresponding day of the week"
   ]
  },
  {
   "cell_type": "code",
   "execution_count": 39,
   "id": "0ee68aee",
   "metadata": {},
   "outputs": [
    {
     "name": "stdout",
     "output_type": "stream",
     "text": [
      "Enter any number from 1 to 7 :6\n",
      " Hello its a saturday\n"
     ]
    }
   ],
   "source": [
    "tuple=(1,2,3,4,5,6,7)\n",
    "number=int(input(\"Enter any number from 1 to 7 :\"))\n",
    "if number==1:\n",
    "    print(\" Hello its a monday\")\n",
    "elif number==2:\n",
    "    print(\" Hello its a tuesday\")   \n",
    "elif number==3:\n",
    "    print(\" Hello its a wednesday\")   \n",
    "elif number==4:\n",
    "    print(\" Hello its a thursday\")   \n",
    "elif number==5:\n",
    "    print(\" Hello its a friday\")   \n",
    "elif number==6:\n",
    "    print(\" Hello its a saturday\")  \n",
    "elif number==7:\n",
    "    print(\" Hello its a sunday\")  \n",
    "else:\n",
    "    print(\" invalid input\")  \n",
    "    \n",
    "    "
   ]
  },
  {
   "cell_type": "markdown",
   "id": "1fa92672",
   "metadata": {},
   "source": [
    "Q3. Make a tuple with the coordinates (x, y). Write a program that unpacks the tuple and\n",
    "prints the values of x and y separately."
   ]
  },
  {
   "cell_type": "code",
   "execution_count": 1,
   "id": "bfb495c1",
   "metadata": {},
   "outputs": [
    {
     "name": "stdout",
     "output_type": "stream",
     "text": [
      "{1: 2, 3: 4, 5: 6}\n",
      "\n",
      "x values are: dict_keys([1, 3, 5])\n",
      "\n",
      "y values are: dict_values([2, 4, 6])\n"
     ]
    }
   ],
   "source": [
    "tuple=((1,2),(3,4),(5,6))\n",
    "y=dict(tuple)\n",
    "print(y)\n",
    "print()\n",
    "print(\"x values are:\",y.keys())\n",
    "print()\n",
    "print(\"y values are:\",y.values())"
   ]
  },
  {
   "cell_type": "markdown",
   "id": "4de6b3b0",
   "metadata": {},
   "source": [
    "Q4. Introduce two tuples and concatenate them to form a new tuple. Print the resulting\n",
    "tuple.\n"
   ]
  },
  {
   "cell_type": "code",
   "execution_count": 4,
   "id": "beae6df7",
   "metadata": {},
   "outputs": [
    {
     "name": "stdout",
     "output_type": "stream",
     "text": [
      "(1, 2, 3, 4, 5, 'sandali', 4, 5, 6, 7, 8, 'megha')\n"
     ]
    }
   ],
   "source": [
    "tuple1=(1,2,3,4,5,\"sandali\")\n",
    "tuple2=(4,5,6,7,8,\"megha\")\n",
    "c=tuple1+tuple2\n",
    "print(c)"
   ]
  },
  {
   "cell_type": "markdown",
   "id": "b7c1ea94",
   "metadata": {},
   "source": [
    "Q5. Make a tuple of numbers. Use slicing to extract a sub-tuple containing the middle\n",
    "three numbers."
   ]
  },
  {
   "cell_type": "code",
   "execution_count": 8,
   "id": "5f8bedc7",
   "metadata": {},
   "outputs": [
    {
     "name": "stdout",
     "output_type": "stream",
     "text": [
      "(4, 5, 6)\n"
     ]
    }
   ],
   "source": [
    "a=(1,2,3,4,5,6,7,8,9)\n",
    "b=a[3:6]\n",
    "print(b)"
   ]
  },
  {
   "cell_type": "markdown",
   "id": "3388d9df",
   "metadata": {},
   "source": [
    "Q6. Try to modify an element in a tuple and explain why it results in an error.\n"
   ]
  },
  {
   "cell_type": "code",
   "execution_count": 9,
   "id": "a4dcb92f",
   "metadata": {},
   "outputs": [
    {
     "ename": "TypeError",
     "evalue": "'tuple' object does not support item assignment",
     "output_type": "error",
     "traceback": [
      "\u001b[1;31m---------------------------------------------------------------------------\u001b[0m",
      "\u001b[1;31mTypeError\u001b[0m                                 Traceback (most recent call last)",
      "Cell \u001b[1;32mIn[9], line 2\u001b[0m\n\u001b[0;32m      1\u001b[0m m\u001b[38;5;241m=\u001b[39m(\u001b[38;5;241m1\u001b[39m,\u001b[38;5;241m2\u001b[39m,\u001b[38;5;241m3\u001b[39m,\u001b[38;5;241m4\u001b[39m,\u001b[38;5;241m5\u001b[39m,\u001b[38;5;241m6\u001b[39m,\u001b[38;5;241m7\u001b[39m,\u001b[38;5;241m8\u001b[39m)\n\u001b[1;32m----> 2\u001b[0m m[\u001b[38;5;241m5\u001b[39m]\u001b[38;5;241m=\u001b[39m\u001b[38;5;241m20\u001b[39m\n\u001b[0;32m      3\u001b[0m \u001b[38;5;28mprint\u001b[39m(m)\n",
      "\u001b[1;31mTypeError\u001b[0m: 'tuple' object does not support item assignment"
     ]
    }
   ],
   "source": [
    "m=(1,2,3,4,5,6,7,8)   ###  Because tuple is immutable\n",
    "m[5]=20\n",
    "print(m)"
   ]
  },
  {
   "cell_type": "markdown",
   "id": "505c77a9",
   "metadata": {},
   "source": [
    "Q7. Create a tuple of mixed data types (e.g., numbers and strings). Use the count()\n",
    "method to count the number of occurrences of a specific element and the index()\n",
    "method to find its position."
   ]
  },
  {
   "cell_type": "code",
   "execution_count": 11,
   "id": "a9c60dce",
   "metadata": {},
   "outputs": [
    {
     "name": "stdout",
     "output_type": "stream",
     "text": [
      "2 - 1\n",
      "4 - 1\n",
      "6 - 1\n",
      "7 - 1\n",
      "8 - 1\n",
      "A - 1\n",
      "B - 1\n",
      "C - 1\n",
      "D - 1\n"
     ]
    }
   ],
   "source": [
    "A=(2,4,6,7,8,\"A\",\"B\",\"C\",\"D\")\n",
    "i=0\n",
    "for e in A:\n",
    "    if i==A.index(e):\n",
    "        print(e,'-',A.count(e))\n",
    "    i+=1\n",
    "    "
   ]
  },
  {
   "cell_type": "markdown",
   "id": "4e4464ec",
   "metadata": {},
   "source": [
    "Q8. Define two tuples with numbers. Write a program that compares the two tuples and\n",
    "prints whether they are equal, not equal, or one is greater than the other."
   ]
  },
  {
   "cell_type": "code",
   "execution_count": 1,
   "id": "4e793150",
   "metadata": {},
   "outputs": [
    {
     "name": "stdout",
     "output_type": "stream",
     "text": [
      "enter any variable123\n",
      "<class 'tuple'>\n",
      "enter any variable456\n",
      "<class 'tuple'>\n",
      "tuple m is smaller than tuple n\n"
     ]
    }
   ],
   "source": [
    "m=input(\"enter any variable\")\n",
    "m=tuple(m.split(','))\n",
    "print(type(m))\n",
    "\n",
    "n=input(\"enter any variable\")\n",
    "n=tuple(n.split(','))\n",
    "print(type(n))\n",
    "\n",
    "if m>n:\n",
    "    print(\"tuple m is greater than tuple n\")\n",
    "elif m==n:\n",
    "    print(\"tuple m and tuple n both are equal \")\n",
    "else:\n",
    "     print(\"tuple m is smaller than tuple n\")"
   ]
  },
  {
   "cell_type": "markdown",
   "id": "498b8012",
   "metadata": {},
   "source": [
    "Q9. Create a function that accepts a variable number of arguments and returns them as a\n",
    "tuple. Then, call the function with different numbers of arguments.\n"
   ]
  },
  {
   "cell_type": "code",
   "execution_count": 11,
   "id": "d562f5ae",
   "metadata": {},
   "outputs": [
    {
     "name": "stdout",
     "output_type": "stream",
     "text": [
      "enter any variablen\n",
      "('n',)\n"
     ]
    }
   ],
   "source": [
    "m=input(\"enter any variable\")\n",
    "m=tuple(m.split(','))\n",
    "print(m)\n"
   ]
  },
  {
   "cell_type": "markdown",
   "id": "644c676c",
   "metadata": {},
   "source": [
    "Q10. Make a tuple of names. Write a program that uses a loop to iterate through the\n",
    "names and print each one"
   ]
  },
  {
   "cell_type": "code",
   "execution_count": 2,
   "id": "bc4cafc4",
   "metadata": {},
   "outputs": [
    {
     "name": "stdout",
     "output_type": "stream",
     "text": [
      "nagpur\n",
      "bhusawal\n",
      "delhi\n",
      "jalgoan\n"
     ]
    }
   ],
   "source": [
    "m=(\"nagpur\" ,\"bhusawal\", \"delhi\", \"jalgoan\")\n",
    "i=0\n",
    "for e in m:\n",
    "    if i==m.index(e):\n",
    "        print(e)\n",
    "        i+=1"
   ]
  },
  {
   "cell_type": "markdown",
   "id": "317e1040",
   "metadata": {},
   "source": [
    "# Python assignment-7 Set"
   ]
  },
  {
   "cell_type": "markdown",
   "id": "eb2a1efd",
   "metadata": {},
   "source": [
    "Q1. Create a set containing the names of your favorite animal."
   ]
  },
  {
   "cell_type": "code",
   "execution_count": 36,
   "id": "7aa0cbd7",
   "metadata": {},
   "outputs": [
    {
     "data": {
      "text/plain": [
       "{'cat', 'cow', 'panda', 'penguin', 'poddle dogs', 'tortise'}"
      ]
     },
     "execution_count": 36,
     "metadata": {},
     "output_type": "execute_result"
    }
   ],
   "source": [
    "set={\"cat\",\"tortise\",\"cow\",\"panda\",\"poddle dogs\",\"penguin\"}\n",
    "set"
   ]
  },
  {
   "cell_type": "markdown",
   "id": "1fe8cbf9",
   "metadata": {},
   "source": [
    "Q2. Create two sets of integers and perform set operations to find their union,\n",
    "intersection, and symmetric difference. Print the results."
   ]
  },
  {
   "cell_type": "code",
   "execution_count": 23,
   "id": "5e03f801",
   "metadata": {},
   "outputs": [
    {
     "name": "stdout",
     "output_type": "stream",
     "text": [
      "union: {1, 2, 34, 4, 5, 6, 7, 8, 9}\n",
      "intersection: {5, 6, 7}\n",
      "symmetric_difference: {1, 2, 4, 8, 9, 34}\n"
     ]
    }
   ],
   "source": [
    "m={1,2,34,5,6,7}\n",
    "n={5,6,7,8,9,4}\n",
    "print(\"union:\",m|n)\n",
    "print(\"intersection:\",m&n)\n",
    "print(\"symmetric_difference:\",m^n)\n"
   ]
  },
  {
   "cell_type": "markdown",
   "id": "15d76fba",
   "metadata": {},
   "source": [
    "Q3. Create a set of cities. Write a program that checks if a specific city is in the set and\n",
    "prints a message indicating its presence or absence.Q"
   ]
  },
  {
   "cell_type": "code",
   "execution_count": 24,
   "id": "9de0b59a",
   "metadata": {},
   "outputs": [
    {
     "name": "stdout",
     "output_type": "stream",
     "text": [
      "yes\n"
     ]
    }
   ],
   "source": [
    "city={\"nagpur\",\"lonwala\",\"jalgoan\",\"bhusawal\"}\n",
    "if \"jalgoan\" in city :\n",
    "    print(\"yes\")\n",
    "else:\n",
    "    print(\"no\")"
   ]
  },
  {
   "cell_type": "markdown",
   "id": "04667890",
   "metadata": {},
   "source": [
    "Q4. Create an empty set and add elements to it using the add() method. Print the set after\n",
    "each addition."
   ]
  },
  {
   "cell_type": "code",
   "execution_count": 13,
   "id": "2a5ee8c0",
   "metadata": {},
   "outputs": [
    {
     "name": "stdout",
     "output_type": "stream",
     "text": [
      "{11}\n",
      "{11, 12}\n",
      "{11, 12, 13}\n"
     ]
    }
   ],
   "source": [
    "emptyset=set()\n",
    "emptyset.add(11)\n",
    "print(emptyset)\n",
    "emptyset.add(12)\n",
    "print(emptyset)\n",
    "emptyset.add(13)\n",
    "print(emptyset)"
   ]
  },
  {
   "cell_type": "markdown",
   "id": "8296d88c",
   "metadata": {},
   "source": [
    "Q5. Given a set of numbers, remove a specific number from the set. Print the modified\n",
    "set.\n"
   ]
  },
  {
   "cell_type": "code",
   "execution_count": 20,
   "id": "3f8ef596",
   "metadata": {},
   "outputs": [
    {
     "name": "stdout",
     "output_type": "stream",
     "text": [
      "{1, 2, 3, 4, 5}\n",
      "Modified set {1, 2, 3, 4}\n"
     ]
    }
   ],
   "source": [
    "set={1,2,3,4,5}\n",
    "print(set)\n",
    "set.remove(5)\n",
    "print(\"Modified set\",set)"
   ]
  },
  {
   "cell_type": "markdown",
   "id": "51486436",
   "metadata": {},
   "source": [
    "Q6. Make two sets of words (strings) and find the words that are unique to each set (not\n",
    "present in both sets). Print the results.A"
   ]
  },
  {
   "cell_type": "code",
   "execution_count": 19,
   "id": "7f2c8604",
   "metadata": {},
   "outputs": [
    {
     "name": "stdout",
     "output_type": "stream",
     "text": [
      "{'poddle dogs'}\n",
      "{'rabbit'}\n"
     ]
    }
   ],
   "source": [
    "set1={\"cat\",\"tortise\",\"poddle dogs\",\"cow\"}\n",
    "set2={\"rabbit\",\"cat\",\"tortise\",\"cow\"}\n",
    "m=set1-set2\n",
    "print(m)\n",
    "n=set2-set1\n",
    "print(n)"
   ]
  },
  {
   "cell_type": "markdown",
   "id": "e4d4859d",
   "metadata": {},
   "source": [
    "Q7. Define two sets of numbers and determine if one set is a subset of the other. Print a\n",
    "message indicating the relationship.\n"
   ]
  },
  {
   "cell_type": "code",
   "execution_count": 16,
   "id": "7dd0b3ce",
   "metadata": {},
   "outputs": [
    {
     "name": "stdout",
     "output_type": "stream",
     "text": [
      "set2 is not subset of set1\n"
     ]
    }
   ],
   "source": [
    "set1={1,2,3,4,5}\n",
    "set2={2,3,4,5,6}\n",
    "if set2.issubset(set1):\n",
    "    print(\"set2 is subset of set1\")\n",
    "else:\n",
    "    print(\"set2 is not subset of set1\")\n",
    "    \n"
   ]
  },
  {
   "cell_type": "markdown",
   "id": "a6985939",
   "metadata": {},
   "source": [
    "Q8. Make two sets and use the update() method to add the elements from one set to\n",
    "another. Print the updated set.\n"
   ]
  },
  {
   "cell_type": "code",
   "execution_count": 12,
   "id": "2b9a31f0",
   "metadata": {},
   "outputs": [
    {
     "name": "stdout",
     "output_type": "stream",
     "text": [
      "{'sakshi', 'megha', 'kriti', 'bhagyashree', 'disha', 'priti', 'manisha'}\n"
     ]
    }
   ],
   "source": [
    "set1={\"megha\",\"manisha\",\"disha\",\"sakshi\"}\n",
    "set2={\"bhagyashree\",\"priti\",\"kriti\"}\n",
    "set1.update(set2)\n",
    "print(set1)"
   ]
  },
  {
   "cell_type": "markdown",
   "id": "613a8dcf",
   "metadata": {},
   "source": [
    "Q9. Introduce a set of numbers and use a set comprehension to create a new set with\n",
    "only the even numbers."
   ]
  },
  {
   "cell_type": "code",
   "execution_count": 9,
   "id": "1974920c",
   "metadata": {},
   "outputs": [
    {
     "name": "stdout",
     "output_type": "stream",
     "text": [
      "{2, 4, 6}\n"
     ]
    }
   ],
   "source": [
    "m={1,2,3,4,5,6,7}\n",
    "n={i for i in m if i%2==0}\n",
    "print(n)\n"
   ]
  },
  {
   "cell_type": "markdown",
   "id": "a3c2441b",
   "metadata": {},
   "source": [
    "Q10. Create a set of names. Write a program that uses a loop to iterate through the set\n",
    "and print each name."
   ]
  },
  {
   "cell_type": "code",
   "execution_count": 4,
   "id": "7c3bc170",
   "metadata": {},
   "outputs": [
    {
     "name": "stdout",
     "output_type": "stream",
     "text": [
      "panda\n",
      "penguin\n",
      "poddle dogs\n"
     ]
    }
   ],
   "source": [
    "names={\"panda\",\"poddle dogs\",\"penguin\"}\n",
    "for i in names:\n",
    "    print(i)\n",
    "       "
   ]
  },
  {
   "cell_type": "markdown",
   "id": "c099dd9b",
   "metadata": {},
   "source": [
    "# Python assignment-8 Dictionary"
   ]
  },
  {
   "cell_type": "markdown",
   "id": "1130c2fb",
   "metadata": {},
   "source": [
    "Q1. Create a dictionary that represents the information of a person, including name, age,\n",
    "and city."
   ]
  },
  {
   "cell_type": "code",
   "execution_count": 1,
   "id": "56c4af07",
   "metadata": {},
   "outputs": [
    {
     "data": {
      "text/plain": [
       "{'name': 'megha', 'age': 23, 'city': 'nagpur'}"
      ]
     },
     "execution_count": 1,
     "metadata": {},
     "output_type": "execute_result"
    }
   ],
   "source": [
    "dict={\"name\":\"megha\",\"age\":23,\"city\":\"nagpur\"}\n",
    "dict"
   ]
  },
  {
   "cell_type": "markdown",
   "id": "de61c099",
   "metadata": {},
   "source": [
    "Q2. Define a dictionary with information about a book (title, author, and year of\n",
    "publication). Write a program to access and print these values."
   ]
  },
  {
   "cell_type": "code",
   "execution_count": 10,
   "id": "fad7236e",
   "metadata": {},
   "outputs": [
    {
     "name": "stdout",
     "output_type": "stream",
     "text": [
      "('Book title', 'The Alchemist')\n",
      "('Author', 'Paulo Coelho')\n",
      "('Year of Publication', 1998)\n"
     ]
    }
   ],
   "source": [
    "Book={\"Book title\":\"The Alchemist\",\"Author\":\"Paulo Coelho\",\"Year of Publication\":1998}\n",
    "for i in Book.items():\n",
    "    print(i)"
   ]
  },
  {
   "cell_type": "markdown",
   "id": "80e1c0d8",
   "metadata": {},
   "source": [
    "Q3. Make a dictionary with the names of cities as keys and their populations as values.\n",
    "Add a new city to the dictionary and update the population of an existing city."
   ]
  },
  {
   "cell_type": "code",
   "execution_count": 12,
   "id": "6ee2ad45",
   "metadata": {},
   "outputs": [
    {
     "name": "stdout",
     "output_type": "stream",
     "text": [
      "{'nagpur': 7000000, 'jalgoan': 600000, 'pune': 8000000}\n",
      "new dict {'nagpur': 7000000, 'jalgoan': 600000, 'pune': 8000000, 'banglore': 12200345}\n"
     ]
    }
   ],
   "source": [
    "dict={\"nagpur\":7000000,\"jalgoan\":600000,\"pune\":8000000}\n",
    "print(dict)\n",
    "dict.update({\"banglore\":12200345})\n",
    "print(\"new dict\",dict)"
   ]
  },
  {
   "cell_type": "markdown",
   "id": "07ebd982",
   "metadata": {},
   "source": [
    "Q4. Define a dictionary with keys representing months and values as the number of days\n",
    "in each month. Write a program to print all the keys (months) in the dictionary."
   ]
  },
  {
   "cell_type": "code",
   "execution_count": 14,
   "id": "319bfaad",
   "metadata": {},
   "outputs": [
    {
     "name": "stdout",
     "output_type": "stream",
     "text": [
      "january\n",
      "february\n",
      "march\n",
      "april\n",
      "may\n",
      "june\n",
      "july\n",
      "august\n",
      "september\n",
      "octomber\n",
      "november\n",
      "december\n"
     ]
    }
   ],
   "source": [
    "year={\"january\":31,\"february\":28,\"march\":31,\"april\":30,\"may\":31,\"june\":30,\"july\":31,\"august\":31,\"september\":30,\"octomber\":30,\"november\":30,\"december\":31}\n",
    "for i in year.keys():\n",
    "    print(i)"
   ]
  },
  {
   "cell_type": "markdown",
   "id": "74da90c4",
   "metadata": {},
   "source": [
    "Q5. Create a list of names and generate a dictionary where the keys are the names, and\n",
    "the values are the lengths of the names"
   ]
  },
  {
   "cell_type": "code",
   "execution_count": 15,
   "id": "fc565336",
   "metadata": {},
   "outputs": [
    {
     "name": "stdout",
     "output_type": "stream",
     "text": [
      "{'megha': 5, 'kajal': 5, 'raju': 4, 'rajkanya': 8}\n"
     ]
    }
   ],
   "source": [
    "list=[\"megha\",\"kajal\",\"raju\",\"rajkanya\"]\n",
    "dict={\"megha\":len(\"megha\"),\"kajal\":len(\"kajal\"),\"raju\":len(\"raju\"),\"rajkanya\":len(\"rajkanya\")}\n",
    "print(dict)"
   ]
  },
  {
   "cell_type": "markdown",
   "id": "64baff1b",
   "metadata": {},
   "source": [
    "Q6. Make a dictionary with information about items and their prices. Write a program that\n",
    "iterates through the dictionary and prints each item and its price"
   ]
  },
  {
   "cell_type": "code",
   "execution_count": 18,
   "id": "5a802115",
   "metadata": {},
   "outputs": [
    {
     "name": "stdout",
     "output_type": "stream",
     "text": [
      "('almonds', 600)\n",
      "(' dates', 250)\n",
      "('walnuts', 500)\n",
      "('cranberry', 350)\n"
     ]
    }
   ],
   "source": [
    "grocery_items={\"almonds\":600,\" dates\":250,\"walnuts\":500,\"cranberry\":350}\n",
    "for i in grocery_items.items():\n",
    "    print( i)"
   ]
  },
  {
   "cell_type": "markdown",
   "id": "91e9dffd",
   "metadata": {},
   "source": [
    "Q7. Write a program that checks if a specific key is present in a dictionary and prints a\n",
    "message indicating its presence or absence."
   ]
  },
  {
   "cell_type": "code",
   "execution_count": 20,
   "id": "dfc01883",
   "metadata": {},
   "outputs": [
    {
     "name": "stdout",
     "output_type": "stream",
     "text": [
      "Enter a key :s\n",
      "it is absent!!\n"
     ]
    }
   ],
   "source": [
    "dict = {'a':600,'b':250,'c':500,'d':350}\n",
    "m=input(\"Enter a key :\")\n",
    "if 'm' in dict.keys():\n",
    "    print(\"it is present!!\")\n",
    "else:\n",
    "    print(\"it is absent!!\")"
   ]
  },
  {
   "cell_type": "markdown",
   "id": "59da55ed",
   "metadata": {},
   "source": [
    "Q8. Define a dictionary with words as keys and their lengths as values. Sort the dictionary\n",
    "based on the values and print the sorted results."
   ]
  },
  {
   "cell_type": "code",
   "execution_count": 24,
   "id": "6601499c",
   "metadata": {},
   "outputs": [
    {
     "name": "stdout",
     "output_type": "stream",
     "text": [
      "{'megha': 5, 'kajal': 5, 'raju': 4, 'rajkanya': 8}\n",
      "\n",
      " the values in decending order:\n",
      "\n",
      "4\n",
      "5\n",
      "5\n",
      "8\n"
     ]
    }
   ],
   "source": [
    "dict={\"megha\":len(\"megha\"),\"kajal\":len(\"kajal\"),\"raju\":len(\"raju\"),\"rajkanya\":len(\"rajkanya\")}\n",
    "print(dict)\n",
    "print(\"\\n the values in decending order:\\n\")\n",
    "for values in sorted(dict.values()):\n",
    "    print(values)"
   ]
  },
  {
   "cell_type": "markdown",
   "id": "b26d370a",
   "metadata": {},
   "source": [
    "Q9. Assume a dictionary representing the scores of students in a class. Write a program\n",
    "to print the student names, their scores, and calculate the class average."
   ]
  },
  {
   "cell_type": "code",
   "execution_count": 29,
   "id": "42086783",
   "metadata": {},
   "outputs": [
    {
     "name": "stdout",
     "output_type": "stream",
     "text": [
      "Enter names of students:megha\n",
      "Average of megha : 76.66666666666667\n",
      "class average is: 70.83333333333333\n"
     ]
    }
   ],
   "source": [
    "students={\"megha\":[90,80,60],\"sakshi\":[60,70,90],\"sandali\":[60,60,70],\"anushka\":[70,80,60]}\n",
    "names=input(\"Enter names of students:\")\n",
    "if names in students.keys():\n",
    "    scores=students[names]\n",
    "    average_score=sum(scores)/len(scores)\n",
    "    print(\"Average of\",names,\":\",average_score)\n",
    "    total_scores=[]\n",
    "    for scores in students.values():\n",
    "        total_scores.extend(scores)\n",
    "    class_average=sum(total_scores)/len(total_scores)\n",
    "    print(\"class average is:\", class_average)\n",
    "else:\n",
    "    print(\"no record found\")"
   ]
  },
  {
   "cell_type": "markdown",
   "id": "231ee398",
   "metadata": {},
   "source": [
    "Q10. Create a nested dictionary to represent a library catalog with books and their details\n",
    "(title, author, and publication year). Write a program to access and print the information\n",
    "for a specific book"
   ]
  },
  {
   "cell_type": "code",
   "execution_count": 7,
   "id": "3b8e5811",
   "metadata": {},
   "outputs": [
    {
     "name": "stdout",
     "output_type": "stream",
     "text": [
      "Enter the names of book:the alchemist\n",
      "{'paulo coelho': 1998}\n"
     ]
    }
   ],
   "source": [
    "librabry_catlog={\"the alchemist\":{\"paulo coelho\":1998},\"igikai\":{\"Hector gracia\":2021}}\n",
    "names=input(\"Enter the names of book:\")\n",
    "if names in librabry_catlog.keys():\n",
    "    print(librabry_catlog[names])\n",
    "else:\n",
    "    print(\"no data found\")"
   ]
  },
  {
   "cell_type": "code",
   "execution_count": null,
   "id": "f963dfa4",
   "metadata": {},
   "outputs": [],
   "source": []
  }
 ],
 "metadata": {
  "kernelspec": {
   "display_name": "Python 3 (ipykernel)",
   "language": "python",
   "name": "python3"
  },
  "language_info": {
   "codemirror_mode": {
    "name": "ipython",
    "version": 3
   },
   "file_extension": ".py",
   "mimetype": "text/x-python",
   "name": "python",
   "nbconvert_exporter": "python",
   "pygments_lexer": "ipython3",
   "version": "3.11.5"
  }
 },
 "nbformat": 4,
 "nbformat_minor": 5
}
